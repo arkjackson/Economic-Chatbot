{
 "cells": [
  {
   "cell_type": "code",
   "execution_count": null,
   "metadata": {},
   "outputs": [],
   "source": [
    "import openai\n",
    "from langchain.chat_models import ChatOpenAI\n",
    "from langchain.schema import HumanMessage"
   ]
  },
  {
   "cell_type": "code",
   "execution_count": null,
   "metadata": {},
   "outputs": [],
   "source": [
    "# Upload the data for Fine-tuning\n",
    "openai.api_key = \"YOUR_API_KEY\"\n",
    "\n",
    "response = openai.File.create(\n",
    "  file=open(\"YOUR_DATA.jsonl\", \"rb\"),\n",
    "  purpose='fine-tune'\n",
    ")\n",
    "\n",
    "print(response) # Get the \"file_id\""
   ]
  },
  {
   "cell_type": "code",
   "execution_count": null,
   "metadata": {},
   "outputs": [],
   "source": [
    "# Finetuning GPT-3.5-turbo\n",
    "file_id = \"YOUR_FILE_ID\"\n",
    "response = openai.FineTuningJob.create(training_file=file_id,  model=\"gpt-3.5-turbo\")\n",
    "print(response) # Get the \"model_name\""
   ]
  },
  {
   "cell_type": "code",
   "execution_count": null,
   "metadata": {},
   "outputs": [],
   "source": [
    "# Test the model using langchain\n",
    "model_name = \"YOUR_MODEL_NAME\"\n",
    "chat = ChatOpenAI(model=model_name)\n",
    "\n",
    "messages = [\n",
    "    HumanMessage(content=\"What is the outlook for Samsung Electronics' stock price?\")\n",
    "]\n",
    "\n",
    "response = chat(messages)\n",
    "print(response.content)"
   ]
  }
 ],
 "metadata": {
  "kernelspec": {
   "display_name": "Python 3",
   "language": "python",
   "name": "python3"
  },
  "language_info": {
   "name": "python",
   "version": "3.10.2"
  }
 },
 "nbformat": 4,
 "nbformat_minor": 2
}
